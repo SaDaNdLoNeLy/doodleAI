{
 "cells": [
  {
   "cell_type": "markdown",
   "metadata": {},
   "source": [
    "## In develop method for transfer .bin to .npy "
   ]
  },
  {
   "cell_type": "code",
   "execution_count": 1,
   "metadata": {},
   "outputs": [],
   "source": [
    "import struct\n",
    "from struct import unpack"
   ]
  },
  {
   "cell_type": "code",
   "execution_count": 5,
   "metadata": {},
   "outputs": [],
   "source": [
    "def unpack_drawing(file_handler):\n",
    "\t\n",
    "\tkey_id, = unpack('Q', file_handler.read(8))\n",
    "\tcountry_code, = unpack('2s', file_handler.read(2))\n",
    "\trecognized, = unpack('b', file_handler.read(1))\n",
    "\ttimestamp, = unpack('I', file_handler.read(4))\n",
    "\tn_strokes, = unpack('H', file_handler.read(2))\n",
    " \n",
    "\timage = []\n",
    "\t\n",
    "\tfor i in range(n_strokes):\n",
    "\t\tn_points, = unpack('H', file_handler.read(2))\n",
    "\t\tfmt = str(n_points) + 'B'\n",
    "\t\tx = unpack(fmt, file_handler.read(n_points))\n",
    "\t\ty = unpack(fmt, file_handler.read(n_points))\n",
    "\t\timage.append((x, y))\n",
    "\n",
    "\treturn {\n",
    "\t\t'key': key_id,\n",
    "\t\t'country_code': country_code,\n",
    "\t\t'recognized': recognized,\n",
    "\t\t'timestamp': timestamp,\n",
    "\t\t'image': image\n",
    "\t}"
   ]
  },
  {
   "cell_type": "code",
   "execution_count": 3,
   "metadata": {},
   "outputs": [],
   "source": [
    "def unpack_all_drawings(filename, limit):\n",
    "  with open(filename, 'rb') as f:\n",
    "    counter = 0\n",
    "    while counter < limit:\n",
    "      try:\n",
    "        yield unpack_drawing(f)\n",
    "        counter++\n",
    "      except struct.error:\n",
    "        break"
   ]
  },
  {
   "cell_type": "code",
   "execution_count": 4,
   "metadata": {},
   "outputs": [
    {
     "name": "stderr",
     "output_type": "stream",
     "text": [
      "IOPub data rate exceeded.\n",
      "The notebook server will temporarily stop sending output\n",
      "to the client in order to avoid crashing it.\n",
      "To change this limit, set the config variable\n",
      "`--NotebookApp.iopub_data_rate_limit`.\n",
      "\n",
      "Current values:\n",
      "NotebookApp.iopub_data_rate_limit=1000000.0 (bytes/sec)\n",
      "NotebookApp.rate_limit_window=3.0 (secs)\n",
      "\n"
     ]
    }
   ],
   "source": [
    "for drawing in unpack_all_drawings('./bin_data/triangle.bin'):\n",
    "  print(drawing)"
   ]
  },
  {
   "cell_type": "code",
   "execution_count": null,
   "metadata": {},
   "outputs": [],
   "source": []
  }
 ],
 "metadata": {
  "kernelspec": {
   "display_name": "Python 3 (ipykernel)",
   "language": "python",
   "name": "python3"
  },
  "language_info": {
   "codemirror_mode": {
    "name": "ipython",
    "version": 3
   },
   "file_extension": ".py",
   "mimetype": "text/x-python",
   "name": "python",
   "nbconvert_exporter": "python",
   "pygments_lexer": "ipython3",
   "version": "3.10.5"
  }
 },
 "nbformat": 4,
 "nbformat_minor": 2
}

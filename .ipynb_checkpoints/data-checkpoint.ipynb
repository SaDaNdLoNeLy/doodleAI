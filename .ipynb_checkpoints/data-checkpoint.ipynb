{
 "cells": [
  {
   "cell_type": "markdown",
   "metadata": {},
   "source": [
    "## Get data from google storage from object.txt\n"
   ]
  },
  {
   "cell_type": "code",
   "execution_count": 1,
   "metadata": {},
   "outputs": [
    {
     "name": "stdout",
     "output_type": "stream",
     "text": [
      "['triangle', 'circle', 'square']\n"
     ]
    }
   ],
   "source": [
    "import urllib.request as req\n",
    "object_file = open(\"object.txt\", \"r\")\n",
    "objects = object_file.readlines()\n",
    "object_file.close()\n",
    "\n",
    "!mkdir bin_data\n",
    "!mkdir npy_data\n",
    "\n",
    "# Format object name for url request and filename\n",
    "objects = [o.replace('\\n', '').replace(' ', '_') for o in objects]\n",
    "print(objects)\n",
    "\n",
    "# Download dataset and save in data folder\n",
    "def bindownload():\n",
    "\tbase = 'https://storage.googleapis.com/quickdraw_dataset/full/binary/'\n",
    "\tfor o in objects:\n",
    "\t\ttemp_o = o.replace('_', '%20')\n",
    "\t\to_path = base + temp_o + '.bin'\n",
    "\t\tprint(o_path)\n",
    "\t\treq.urlretrieve(o_path, './bin_data/'+ o + '.bin')\n",
    "\t\n",
    "def npydownload():\n",
    "\tbase = 'https://storage.googleapis.com/quickdraw_dataset/full/numpy_bitmap/'\n",
    "\tfor o in objects:\n",
    "\t\ttemp_o = o.replace('_', '%20')\n",
    "\t\to_path = base + temp_o + '.npy'\n",
    "\t\tprint(o_path)\n",
    "\t\treq.urlretrieve(o_path, './npy_data/'+ o + '.npy')"
   ]
  },
  {
   "cell_type": "code",
   "execution_count": 2,
   "metadata": {},
   "outputs": [
    {
     "name": "stdout",
     "output_type": "stream",
     "text": [
      "https://storage.googleapis.com/quickdraw_dataset/full/binary/triangle.bin\n",
      "https://storage.googleapis.com/quickdraw_dataset/full/binary/circle.bin\n",
      "https://storage.googleapis.com/quickdraw_dataset/full/binary/square.bin\n",
      "https://storage.googleapis.com/quickdraw_dataset/full/numpy_bitmap/triangle.npy\n",
      "https://storage.googleapis.com/quickdraw_dataset/full/numpy_bitmap/circle.npy\n",
      "https://storage.googleapis.com/quickdraw_dataset/full/numpy_bitmap/square.npy\n"
     ]
    }
   ],
   "source": [
    "bindownload()\n",
    "npydownload()"
   ]
  },
  {
   "cell_type": "code",
   "execution_count": null,
   "metadata": {},
   "outputs": [],
   "source": []
  }
 ],
 "metadata": {
  "kernelspec": {
   "display_name": "Python 3 (ipykernel)",
   "language": "python",
   "name": "python3"
  },
  "language_info": {
   "codemirror_mode": {
    "name": "ipython",
    "version": 3
   },
   "file_extension": ".py",
   "mimetype": "text/x-python",
   "name": "python",
   "nbconvert_exporter": "python",
   "pygments_lexer": "ipython3",
   "version": "3.10.5"
  }
 },
 "nbformat": 4,
 "nbformat_minor": 2
}

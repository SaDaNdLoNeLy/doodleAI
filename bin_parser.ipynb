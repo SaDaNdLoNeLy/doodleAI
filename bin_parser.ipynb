{
 "cells": [
  {
   "cell_type": "markdown",
   "metadata": {},
   "source": [
    "## In develop method for transfer .bin to .npy "
   ]
  },
  {
   "cell_type": "code",
   "execution_count": 1,
   "metadata": {},
   "outputs": [],
   "source": [
    "import struct\n",
    "from struct import unpack\n",
    "import os"
   ]
  },
  {
   "cell_type": "code",
   "execution_count": 3,
   "metadata": {},
   "outputs": [],
   "source": [
    "def unpack_drawing(file_handler, object_name):\n",
    "\t\n",
    "\tkey_id, = unpack('Q', file_handler.read(8))\n",
    "\tcountry_code, = unpack('2s', file_handler.read(2))\n",
    "\trecognized, = unpack('b', file_handler.read(1))\n",
    "\ttimestamp, = unpack('I', file_handler.read(4))\n",
    "\tn_strokes, = unpack('H', file_handler.read(2))\n",
    " \n",
    "\timage = []\n",
    "\t\n",
    "\tfor i in range(n_strokes):\n",
    "\t\tn_points, = unpack('H', file_handler.read(2))\n",
    "\t\tfmt = str(n_points) + 'B'\n",
    "\t\tx = unpack(fmt, file_handler.read(n_points))\n",
    "\t\ty = unpack(fmt, file_handler.read(n_points))\n",
    "\t\timage.append((x, y))\n",
    "\n",
    "\treturn {\n",
    "\t\t'key': key_id,\n",
    "\t\t'word': object_name,\n",
    "\t\t'country_code': country_code,\n",
    "\t\t'recognized': recognized,\n",
    "\t\t'timestamp': timestamp,\n",
    "\t\t'image': image\n",
    "\t}"
   ]
  },
  {
   "cell_type": "code",
   "execution_count": 4,
   "metadata": {},
   "outputs": [],
   "source": [
    "def unpack_all_drawings(filename):\n",
    "  file_path = os.path.basename(filename)\n",
    "  object_name, ext = os.path.splitext(file_path)\n",
    "  with open(filename, 'rb') as f:\n",
    "    for i in range(0,4):\n",
    "      try:\n",
    "        yield unpack_drawing(f, object_name)\n",
    "      except struct.error:\n",
    "        break"
   ]
  },
  {
   "cell_type": "code",
   "execution_count": 5,
   "metadata": {},
   "outputs": [
    {
     "name": "stdout",
     "output_type": "stream",
     "text": [
      "{'key': 6420579601088512, 'word': 'apple', 'country_code': b'US', 'recognized': 0, 'timestamp': 1489184277, 'image': [((255, 255), (0, 0)), ((255, 255), (0, 0)), ((255, 255), (0, 0)), ((255, 254), (0, 1)), ((131, 124, 114, 69, 37, 10, 0, 0, 5, 16, 31, 50, 68, 86, 101, 115, 126, 135, 137, 135, 122, 106), (50, 39, 39, 59, 89, 127, 172, 194, 215, 233, 244, 249, 249, 241, 225, 203, 174, 143, 114, 88, 65, 45)), ((84, 77, 81, 88, 99, 122, 138, 161, 180), (97, 85, 52, 34, 18, 4, 1, 2, 12))]}\n",
      "{'key': 4986110117675008, 'word': 'apple', 'country_code': b'RU', 'recognized': 1, 'timestamp': 1488954584, 'image': [((95, 79, 68, 31, 17, 9, 1, 0, 4, 54, 103, 130, 168, 190, 204, 219, 228, 222, 210, 200, 194, 197, 203, 192, 189, 190, 209, 207, 197, 179, 107, 100), (62, 50, 49, 74, 91, 113, 163, 220, 226, 249, 255, 255, 244, 231, 215, 187, 152, 151, 160, 160, 156, 140, 137, 134, 115, 109, 88, 82, 71, 63, 62, 65)), ((100, 100, 104, 110, 115, 115, 108, 107), (58, 17, 1, 0, 12, 22, 44, 64))]}\n",
      "{'key': 6489082920173568, 'word': 'apple', 'country_code': b'GB', 'recognized': 1, 'timestamp': 1489149693, 'image': [((121, 107, 45, 17, 1, 0, 4, 21, 58, 118, 173, 197, 209, 224, 244, 254, 254, 209, 164, 124), (47, 57, 56, 75, 93, 114, 123, 140, 162, 187, 196, 187, 177, 164, 136, 115, 101, 83, 71, 43)), ((123, 126), (43, 0))]}\n",
      "{'key': 4587619411296256, 'word': 'apple', 'country_code': b'US', 'recognized': 1, 'timestamp': 1489687314, 'image': [((104, 80, 54, 28, 11, 0, 1, 8, 20, 51, 90, 111, 147, 170, 198, 213, 229, 248, 255, 255, 243, 221, 213, 161, 120, 111, 110, 117, 141, 115), (54, 38, 38, 53, 80, 128, 164, 183, 201, 228, 244, 249, 250, 244, 232, 220, 197, 157, 126, 97, 68, 45, 41, 35, 54, 66, 50, 32, 0, 61))]}\n"
     ]
    }
   ],
   "source": [
    "for drawing in unpack_all_drawings('./bin_data/apple.bin'):\n",
    "  print(drawing)"
   ]
  }
 ],
 "metadata": {
  "kernelspec": {
   "display_name": "base",
   "language": "python",
   "name": "python3"
  },
  "language_info": {
   "codemirror_mode": {
    "name": "ipython",
    "version": 3
   },
   "file_extension": ".py",
   "mimetype": "text/x-python",
   "name": "python",
   "nbconvert_exporter": "python",
   "pygments_lexer": "ipython3",
   "version": "3.10.13"
  }
 },
 "nbformat": 4,
 "nbformat_minor": 2
}

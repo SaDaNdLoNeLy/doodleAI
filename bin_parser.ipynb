{
 "cells": [
  {
   "cell_type": "markdown",
   "metadata": {},
   "source": [
    "## In develop method for transfer .bin to .npy "
   ]
  },
  {
   "cell_type": "code",
   "execution_count": 13,
   "metadata": {},
   "outputs": [],
   "source": [
    "import struct\n",
    "from struct import unpack"
   ]
  },
  {
   "cell_type": "code",
   "execution_count": 17,
   "metadata": {},
   "outputs": [],
   "source": [
    "def unpack_drawing(file_handler):\n",
    "\t\n",
    "\tkey_id, = unpack('Q', file_handler.read(8))\n",
    "\tcountry_code, = unpack('2s', file_handler.read(2))\n",
    "\trecognized, = unpack('b', file_handler.read(1))\n",
    "\ttimestamp, = unpack('I', file_handler.read(4))\n",
    "\tn_strokes, = unpack('H', file_handler.read(2))\n",
    " \n",
    "\timage = []\n",
    "\t\n",
    "\tfor i in range(n_strokes):\n",
    "\t\tn_points, = unpack('H', file_handler.read(2))\n",
    "\t\tfmt = str(n_points) + 'B'\n",
    "\t\tx = unpack(fmt, file_handler.read(n_points))\n",
    "\t\ty = unpack(fmt, file_handler.read(n_points))\n",
    "\t\timage.append((x, y))\n",
    "\n",
    "\treturn {\n",
    "\t\t'key': key_id,\n",
    "\t\t'country_code': country_code,\n",
    "\t\t'recognized': recognized,\n",
    "\t\t'timestamp': timestamp,\n",
    "\t\t'image': image\n",
    "\t}"
   ]
  },
  {
   "cell_type": "code",
   "execution_count": 18,
   "metadata": {},
   "outputs": [],
   "source": [
    "def unpack_all_drawings(filename):\n",
    "  with open(filename, 'rb') as f:\n",
    "    while True:\n",
    "      try:\n",
    "        yield unpack_drawing(f)\n",
    "      except struct.error:\n",
    "        break"
   ]
  },
  {
   "cell_type": "code",
   "execution_count": null,
   "metadata": {},
   "outputs": [],
   "source": [
    "for drawing in unpack_all_drawings('./bin_data/triangle.bin'):\n",
    "  print(drawing)"
   ]
  }
 ],
 "metadata": {
  "kernelspec": {
   "display_name": "base",
   "language": "python",
   "name": "python3"
  },
  "language_info": {
   "codemirror_mode": {
    "name": "ipython",
    "version": 3
   },
   "file_extension": ".py",
   "mimetype": "text/x-python",
   "name": "python",
   "nbconvert_exporter": "python",
   "pygments_lexer": "ipython3",
   "version": "3.11.5"
  }
 },
 "nbformat": 4,
 "nbformat_minor": 2
}

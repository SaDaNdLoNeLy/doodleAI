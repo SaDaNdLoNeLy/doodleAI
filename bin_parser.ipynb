{
 "cells": [
  {
   "cell_type": "markdown",
   "metadata": {},
   "source": [
    "## In develop method for transfer .bin to .npy "
   ]
  },
  {
   "cell_type": "code",
   "execution_count": 17,
   "metadata": {},
   "outputs": [],
   "source": [
    "import struct\n",
    "from struct import unpack\n",
    "import os"
   ]
  },
  {
   "cell_type": "code",
   "execution_count": 21,
   "metadata": {},
   "outputs": [],
   "source": [
    "def unpack_drawing(file_handler, object_name):\n",
    "\t\n",
    "\tkey_id, = unpack('Q', file_handler.read(8))\n",
    "\tcountry_code, = unpack('2s', file_handler.read(2))\n",
    "\trecognized, = unpack('b', file_handler.read(1))\n",
    "\ttimestamp, = unpack('I', file_handler.read(4))\n",
    "\tn_strokes, = unpack('H', file_handler.read(2))\n",
    " \n",
    "\timage = []\n",
    "\t\n",
    "\tfor i in range(n_strokes):\n",
    "\t\tn_points, = unpack('H', file_handler.read(2))\n",
    "\t\tfmt = str(n_points) + 'B'\n",
    "\t\tx = unpack(fmt, file_handler.read(n_points))\n",
    "\t\ty = unpack(fmt, file_handler.read(n_points))\n",
    "\t\timage.append((x, y))\n",
    "\n",
    "\treturn {\n",
    "\t\t'key': key_id,\n",
    "\t\t'word': object_name,\n",
    "\t\t'country_code': country_code,\n",
    "\t\t'recognized': recognized,\n",
    "\t\t'timestamp': timestamp,\n",
    "\t\t'image': image\n",
    "\t}"
   ]
  },
  {
   "cell_type": "code",
   "execution_count": 22,
   "metadata": {},
   "outputs": [],
   "source": [
    "def unpack_all_drawings(filename):\n",
    "  file_path = os.path.basename(filename)\n",
    "  object_name, ext = os.path.splitext(file_path)\n",
    "  with open(filename, 'rb') as f:\n",
    "    for i in range(0,4):\n",
    "      try:\n",
    "        yield unpack_drawing(f, object_name)\n",
    "      except struct.error:\n",
    "        break"
   ]
  },
  {
   "cell_type": "code",
   "execution_count": 23,
   "metadata": {},
   "outputs": [
    {
     "name": "stdout",
     "output_type": "stream",
     "text": [
      "{'key': 4848879067463680, 'word': 'triangle', 'country_code': b'US', 'recognized': 1, 'timestamp': 1488812427, 'image': [((69, 32, 19, 7, 0, 18, 55, 86, 145, 196, 209, 210, 194, 149, 113, 77, 52), (2, 84, 121, 160, 212, 215, 232, 241, 252, 254, 246, 240, 216, 127, 66, 23, 0))]}\n",
      "{'key': 5548323891052544, 'word': 'triangle', 'country_code': b'US', 'recognized': 1, 'timestamp': 1485521275, 'image': [((98, 48, 0), (0, 108, 235)), ((100, 133, 171), (4, 143, 248)), ((1, 74, 157), (242, 252, 255))]}\n",
      "{'key': 5424826783105024, 'word': 'triangle', 'country_code': b'KR', 'recognized': 1, 'timestamp': 1489963590, 'image': [((0, 45, 121, 151, 155, 184, 202, 255, 253, 228, 203, 128, 68, 38, 6), (147, 105, 20, 0, 1, 28, 54, 139, 143, 151, 154, 157, 153, 156, 149))]}\n",
      "{'key': 5152576825720832, 'word': 'triangle', 'country_code': b'RU', 'recognized': 1, 'timestamp': 1490564440, 'image': [((22, 28, 46, 131, 149, 191, 237, 245, 255, 41, 0), (235, 190, 141, 0, 43, 114, 180, 199, 238, 239, 246))]}\n"
     ]
    }
   ],
   "source": [
    "for drawing in unpack_all_drawings('./bin_data/triangle.bin'):\n",
    "  print(drawing)"
   ]
  }
 ],
 "metadata": {
  "kernelspec": {
   "display_name": "base",
   "language": "python",
   "name": "python3"
  },
  "language_info": {
   "codemirror_mode": {
    "name": "ipython",
    "version": 3
   },
   "file_extension": ".py",
   "mimetype": "text/x-python",
   "name": "python",
   "nbconvert_exporter": "python",
   "pygments_lexer": "ipython3",
   "version": "3.11.5"
  }
 },
 "nbformat": 4,
 "nbformat_minor": 2
}

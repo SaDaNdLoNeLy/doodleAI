{
 "cells": [
  {
   "cell_type": "markdown",
   "metadata": {},
   "source": [
    "## Convert .bin drawing to .npy drawing"
   ]
  },
  {
   "cell_type": "markdown",
   "metadata": {},
   "source": [
    "### Import"
   ]
  },
  {
   "cell_type": "code",
   "execution_count": 1,
   "metadata": {},
   "outputs": [],
   "source": [
    "import os\n",
    "import glob\n",
    "import numpy as np\n",
    "import matplotlib.pyplot as plt\n",
    "from PIL import Image\n",
    "from random import randint\n",
    "import re"
   ]
  },
  {
   "cell_type": "markdown",
   "metadata": {},
   "source": [
    "### Load data"
   ]
  },
  {
   "cell_type": "code",
   "execution_count": 2,
   "metadata": {},
   "outputs": [],
   "source": [
    "object_file = open(\"object.txt\", \"r\")\n",
    "objects = object_file.readlines()\n",
    "object_file.close()\n",
    "N_CLASSES = len(objects)\n",
    "CLASSES = {}\n",
    "for idx, obj in enumerate(objects):\n",
    "    CLASSES[idx] = obj.replace('\\n', '')\n",
    "# print(CLASSES)\n",
    "\n"
   ]
  },
  {
   "cell_type": "code",
   "execution_count": 3,
   "metadata": {},
   "outputs": [],
   "source": [
    "def extract_label(file_path):\n",
    "    \"\"\"\n",
    "    Extract the variable from a string in the format npy_data\\{variable}.npy.\n",
    "\n",
    "    Parameters:\n",
    "    - file_path: String containing the path.\n",
    "\n",
    "    Returns:\n",
    "    - str: Extracted variable.\n",
    "    \"\"\"\n",
    "    match = re.search(r'npy_data\\\\(.*?)\\.npy', file_path)\n",
    "    if match:\n",
    "        variable = match.group(1)\n",
    "        return variable\n",
    "    else:\n",
    "        return None\n",
    "    \n",
    "def get_key_by_value(dictionary, target_value):\n",
    "    \"\"\"\n",
    "    Get the key associated with a specific value in a dictionary.\n",
    "\n",
    "    Parameters:\n",
    "    - dictionary: The input dictionary.\n",
    "    - target_value: The value to search for.\n",
    "\n",
    "    Returns:\n",
    "    - key: The key associated with the target value, or None if not found.\n",
    "    \"\"\"\n",
    "    for key, value in dictionary.items():\n",
    "        if value == target_value:\n",
    "            return key\n",
    "    return None"
   ]
  },
  {
   "cell_type": "code",
   "execution_count": 4,
   "metadata": {},
   "outputs": [],
   "source": [
    "nparrs = np.load(\"./npy_data/apple.npy\")"
   ]
  },
  {
   "cell_type": "code",
   "execution_count": 5,
   "metadata": {},
   "outputs": [],
   "source": [
    "# Get random 1000 drawings from each object\n",
    "def load_drawings(root, reshaped=False):\n",
    "    all_files = glob.glob(os.path.join(root, '*.npy'))\n",
    "    \n",
    "    data = []\n",
    "    label_data = []\n",
    "    for index, file in enumerate(all_files):\n",
    "        extracted_label = extract_label(file)\n",
    "        np_arrays = np.load(file)\n",
    "        label_arrays = []\n",
    "        if reshaped:\n",
    "            new_arrays = []\n",
    "            new_label_arrays = []\n",
    "            for idx in range(len(np_arrays)):\n",
    "                rot_coeff = 0\n",
    "                label_index = get_key_by_value(CLASSES, extracted_label)\n",
    "                if label_index == None:\n",
    "                    continue\n",
    "                # Reshape into a picture 28x28\n",
    "                np_arr = np.reshape(np_arrays[idx] ,(28,28))\n",
    "                # Rotate for better model\n",
    "                np_arr = np.rot90(np_arr, rot_coeff)\n",
    "                # Add another dimension for CNN network\n",
    "                np_arr = np.reshape(np_arr, (28,28,1))\n",
    "                new_arrays.append(np_arr)\n",
    "                new_label_arrays.append(label_index)\n",
    "            np_arrays = new_arrays\n",
    "            label_arrays = new_label_arrays\n",
    "        data.append(np_arrays)\n",
    "        label_data.append(label_arrays)\n",
    "    return data, label_data"
   ]
  },
  {
   "cell_type": "code",
   "execution_count": 6,
   "metadata": {},
   "outputs": [],
   "source": [
    "data, label_data = load_drawings('npy_data', reshaped=True)"
   ]
  },
  {
   "cell_type": "code",
   "execution_count": 7,
   "metadata": {},
   "outputs": [],
   "source": [
    "# print(len(label_data))"
   ]
  },
  {
   "cell_type": "code",
   "execution_count": 8,
   "metadata": {},
   "outputs": [],
   "source": [
    "# print(len(data))"
   ]
  },
  {
   "cell_type": "code",
   "execution_count": 9,
   "metadata": {},
   "outputs": [],
   "source": [
    "def visualize(nparr):\n",
    "    img = Image.fromarray(nparr.reshape(28,28))\n",
    "    img.show(title=\"visualize array\")"
   ]
  },
  {
   "cell_type": "code",
   "execution_count": 10,
   "metadata": {},
   "outputs": [],
   "source": [
    "visualize(data[0][100])"
   ]
  },
  {
   "cell_type": "code",
   "execution_count": 11,
   "metadata": {},
   "outputs": [],
   "source": [
    "def set_lim(np_arrays, label_data_arrays, lim):\n",
    "    lim_arr = []\n",
    "    lim_labels = []\n",
    "    for arr_index in range(len(np_arrays)):\n",
    "        i = 0\n",
    "        data_array = np_arrays[arr_index]\n",
    "        label_array = label_data_arrays[arr_index]\n",
    "        for index in range(len(data_array)):\n",
    "            if i == lim:\n",
    "                break\n",
    "            lim_arr.append(data_array[index])\n",
    "            lim_labels.append(label_array[index])\n",
    "            i += 1\n",
    "    return lim_arr, lim_labels"
   ]
  },
  {
   "cell_type": "code",
   "execution_count": 12,
   "metadata": {},
   "outputs": [],
   "source": [
    "data, labels = set_lim(data, label_data, 1000)"
   ]
  },
  {
   "cell_type": "code",
   "execution_count": 13,
   "metadata": {},
   "outputs": [],
   "source": [
    "# print(len(data))\n",
    "# print(len(labels))\n",
    "# print(labels[2000:2010])"
   ]
  },
  {
   "cell_type": "code",
   "execution_count": 14,
   "metadata": {},
   "outputs": [],
   "source": [
    "def normalize(nparr):\n",
    "    return np.interp(nparr, [0, 255], [-1,1])"
   ]
  },
  {
   "cell_type": "code",
   "execution_count": 15,
   "metadata": {},
   "outputs": [],
   "source": [
    "def denormalize(nparr):\n",
    "    return np.interp(nparr, [-1, 1], [0, 255])"
   ]
  },
  {
   "cell_type": "code",
   "execution_count": 16,
   "metadata": {},
   "outputs": [],
   "source": [
    "data = normalize(data)\n",
    "\n",
    "# print(len(labels))"
   ]
  },
  {
   "cell_type": "code",
   "execution_count": 17,
   "metadata": {},
   "outputs": [
    {
     "data": {
      "text/plain": [
       "array([[[[-1.        ],\n",
       "         [-1.        ],\n",
       "         [-1.        ],\n",
       "         ...,\n",
       "         [-1.        ],\n",
       "         [-1.        ],\n",
       "         [-1.        ]],\n",
       "\n",
       "        [[-1.        ],\n",
       "         [-1.        ],\n",
       "         [-1.        ],\n",
       "         ...,\n",
       "         [-0.27843137],\n",
       "         [-0.84313725],\n",
       "         [-1.        ]],\n",
       "\n",
       "        [[-1.        ],\n",
       "         [-1.        ],\n",
       "         [-1.        ],\n",
       "         ...,\n",
       "         [ 1.        ],\n",
       "         [ 0.74117647],\n",
       "         [-1.        ]],\n",
       "\n",
       "        ...,\n",
       "\n",
       "        [[-1.        ],\n",
       "         [-1.        ],\n",
       "         [-1.        ],\n",
       "         ...,\n",
       "         [-1.        ],\n",
       "         [-1.        ],\n",
       "         [-1.        ]],\n",
       "\n",
       "        [[-1.        ],\n",
       "         [-1.        ],\n",
       "         [-1.        ],\n",
       "         ...,\n",
       "         [-1.        ],\n",
       "         [-1.        ],\n",
       "         [-1.        ]],\n",
       "\n",
       "        [[-1.        ],\n",
       "         [-1.        ],\n",
       "         [-1.        ],\n",
       "         ...,\n",
       "         [-1.        ],\n",
       "         [-1.        ],\n",
       "         [-1.        ]]],\n",
       "\n",
       "\n",
       "       [[[-1.        ],\n",
       "         [-1.        ],\n",
       "         [-1.        ],\n",
       "         ...,\n",
       "         [-1.        ],\n",
       "         [-1.        ],\n",
       "         [-1.        ]],\n",
       "\n",
       "        [[-1.        ],\n",
       "         [-1.        ],\n",
       "         [-1.        ],\n",
       "         ...,\n",
       "         [-1.        ],\n",
       "         [-1.        ],\n",
       "         [-1.        ]],\n",
       "\n",
       "        [[-1.        ],\n",
       "         [-1.        ],\n",
       "         [-1.        ],\n",
       "         ...,\n",
       "         [-1.        ],\n",
       "         [-1.        ],\n",
       "         [-1.        ]],\n",
       "\n",
       "        ...,\n",
       "\n",
       "        [[-1.        ],\n",
       "         [-1.        ],\n",
       "         [-1.        ],\n",
       "         ...,\n",
       "         [-1.        ],\n",
       "         [-1.        ],\n",
       "         [-1.        ]],\n",
       "\n",
       "        [[-1.        ],\n",
       "         [-1.        ],\n",
       "         [-1.        ],\n",
       "         ...,\n",
       "         [-1.        ],\n",
       "         [-1.        ],\n",
       "         [-1.        ]],\n",
       "\n",
       "        [[-1.        ],\n",
       "         [-1.        ],\n",
       "         [-1.        ],\n",
       "         ...,\n",
       "         [-1.        ],\n",
       "         [-1.        ],\n",
       "         [-1.        ]]],\n",
       "\n",
       "\n",
       "       [[[-1.        ],\n",
       "         [-1.        ],\n",
       "         [-1.        ],\n",
       "         ...,\n",
       "         [-1.        ],\n",
       "         [-1.        ],\n",
       "         [-1.        ]],\n",
       "\n",
       "        [[-1.        ],\n",
       "         [-1.        ],\n",
       "         [-1.        ],\n",
       "         ...,\n",
       "         [-1.        ],\n",
       "         [-1.        ],\n",
       "         [-1.        ]],\n",
       "\n",
       "        [[-1.        ],\n",
       "         [-1.        ],\n",
       "         [-1.        ],\n",
       "         ...,\n",
       "         [-1.        ],\n",
       "         [-1.        ],\n",
       "         [-1.        ]],\n",
       "\n",
       "        ...,\n",
       "\n",
       "        [[-1.        ],\n",
       "         [-1.        ],\n",
       "         [-1.        ],\n",
       "         ...,\n",
       "         [-1.        ],\n",
       "         [-1.        ],\n",
       "         [-1.        ]],\n",
       "\n",
       "        [[-1.        ],\n",
       "         [-1.        ],\n",
       "         [-1.        ],\n",
       "         ...,\n",
       "         [-1.        ],\n",
       "         [-1.        ],\n",
       "         [-1.        ]],\n",
       "\n",
       "        [[-1.        ],\n",
       "         [-1.        ],\n",
       "         [-1.        ],\n",
       "         ...,\n",
       "         [-1.        ],\n",
       "         [-1.        ],\n",
       "         [-1.        ]]],\n",
       "\n",
       "\n",
       "       ...,\n",
       "\n",
       "\n",
       "       [[[-1.        ],\n",
       "         [-1.        ],\n",
       "         [-1.        ],\n",
       "         ...,\n",
       "         [-1.        ],\n",
       "         [-1.        ],\n",
       "         [-1.        ]],\n",
       "\n",
       "        [[-1.        ],\n",
       "         [-1.        ],\n",
       "         [-1.        ],\n",
       "         ...,\n",
       "         [-1.        ],\n",
       "         [-1.        ],\n",
       "         [-1.        ]],\n",
       "\n",
       "        [[-1.        ],\n",
       "         [-1.        ],\n",
       "         [-1.        ],\n",
       "         ...,\n",
       "         [-1.        ],\n",
       "         [-1.        ],\n",
       "         [-1.        ]],\n",
       "\n",
       "        ...,\n",
       "\n",
       "        [[-1.        ],\n",
       "         [-1.        ],\n",
       "         [-1.        ],\n",
       "         ...,\n",
       "         [-1.        ],\n",
       "         [-1.        ],\n",
       "         [-1.        ]],\n",
       "\n",
       "        [[-1.        ],\n",
       "         [-1.        ],\n",
       "         [-1.        ],\n",
       "         ...,\n",
       "         [-1.        ],\n",
       "         [-1.        ],\n",
       "         [-1.        ]],\n",
       "\n",
       "        [[-1.        ],\n",
       "         [-1.        ],\n",
       "         [-1.        ],\n",
       "         ...,\n",
       "         [-1.        ],\n",
       "         [-1.        ],\n",
       "         [-1.        ]]],\n",
       "\n",
       "\n",
       "       [[[-1.        ],\n",
       "         [-1.        ],\n",
       "         [-1.        ],\n",
       "         ...,\n",
       "         [-1.        ],\n",
       "         [-1.        ],\n",
       "         [-1.        ]],\n",
       "\n",
       "        [[-1.        ],\n",
       "         [-1.        ],\n",
       "         [-1.        ],\n",
       "         ...,\n",
       "         [-1.        ],\n",
       "         [-1.        ],\n",
       "         [-1.        ]],\n",
       "\n",
       "        [[-1.        ],\n",
       "         [-1.        ],\n",
       "         [-1.        ],\n",
       "         ...,\n",
       "         [-1.        ],\n",
       "         [-1.        ],\n",
       "         [-1.        ]],\n",
       "\n",
       "        ...,\n",
       "\n",
       "        [[-1.        ],\n",
       "         [-1.        ],\n",
       "         [-1.        ],\n",
       "         ...,\n",
       "         [-1.        ],\n",
       "         [-1.        ],\n",
       "         [-1.        ]],\n",
       "\n",
       "        [[-1.        ],\n",
       "         [-1.        ],\n",
       "         [-1.        ],\n",
       "         ...,\n",
       "         [-1.        ],\n",
       "         [-1.        ],\n",
       "         [-1.        ]],\n",
       "\n",
       "        [[-1.        ],\n",
       "         [-1.        ],\n",
       "         [-1.        ],\n",
       "         ...,\n",
       "         [-1.        ],\n",
       "         [-1.        ],\n",
       "         [-1.        ]]],\n",
       "\n",
       "\n",
       "       [[[-1.        ],\n",
       "         [-1.        ],\n",
       "         [-1.        ],\n",
       "         ...,\n",
       "         [-1.        ],\n",
       "         [-1.        ],\n",
       "         [-1.        ]],\n",
       "\n",
       "        [[-1.        ],\n",
       "         [-1.        ],\n",
       "         [-1.        ],\n",
       "         ...,\n",
       "         [-1.        ],\n",
       "         [-1.        ],\n",
       "         [-1.        ]],\n",
       "\n",
       "        [[-1.        ],\n",
       "         [-1.        ],\n",
       "         [-1.        ],\n",
       "         ...,\n",
       "         [-1.        ],\n",
       "         [-1.        ],\n",
       "         [-1.        ]],\n",
       "\n",
       "        ...,\n",
       "\n",
       "        [[-1.        ],\n",
       "         [-1.        ],\n",
       "         [-1.        ],\n",
       "         ...,\n",
       "         [-1.        ],\n",
       "         [-1.        ],\n",
       "         [-1.        ]],\n",
       "\n",
       "        [[-1.        ],\n",
       "         [-1.        ],\n",
       "         [-1.        ],\n",
       "         ...,\n",
       "         [-1.        ],\n",
       "         [-1.        ],\n",
       "         [-1.        ]],\n",
       "\n",
       "        [[-1.        ],\n",
       "         [-1.        ],\n",
       "         [-1.        ],\n",
       "         ...,\n",
       "         [-1.        ],\n",
       "         [-1.        ],\n",
       "         [-1.        ]]]])"
      ]
     },
     "execution_count": 17,
     "metadata": {},
     "output_type": "execute_result"
    }
   ],
   "source": [
    "data"
   ]
  },
  {
   "cell_type": "markdown",
   "metadata": {},
   "source": [
    "## Training"
   ]
  },
  {
   "cell_type": "code",
   "execution_count": 18,
   "metadata": {},
   "outputs": [],
   "source": [
    "from sklearn.model_selection import train_test_split as tts\n",
    "from keras.utils import np_utils"
   ]
  },
  {
   "cell_type": "markdown",
   "metadata": {},
   "source": [
    "#### Hot encoding"
   ]
  },
  {
   "cell_type": "code",
   "execution_count": 19,
   "metadata": {},
   "outputs": [],
   "source": [
    "x_train, x_test, y_train, y_test = tts(data, labels, test_size=0.2)"
   ]
  },
  {
   "cell_type": "code",
   "execution_count": 20,
   "metadata": {},
   "outputs": [],
   "source": [
    "Y_train = np_utils.to_categorical(y_train, N_CLASSES)\n",
    "Y_test = np_utils.to_categorical(y_test, N_CLASSES)"
   ]
  },
  {
   "cell_type": "code",
   "execution_count": 21,
   "metadata": {},
   "outputs": [],
   "source": [
    "from keras.models import Sequential\n",
    "from keras.layers import Dense, Dropout, Conv2D, MaxPooling2D, Flatten\n",
    "\n",
    "\n",
    "def conv(classes, input_shape):\n",
    "    model = Sequential()\n",
    "    model.add(Conv2D(32, kernel_size=(3, 3), activation='relu', input_shape=input_shape))\n",
    "    model.add(MaxPooling2D(pool_size=(2, 2)))\n",
    "    model.add(Conv2D(64, (3, 3), activation='relu'))\n",
    "    model.add(MaxPooling2D(pool_size=(2, 2)))\n",
    "    model.add(Dropout(0.5))\n",
    "    model.add(Flatten())\n",
    "    model.add(Dense(128, activation='relu'))\n",
    "    model.add(Dropout(0.5))\n",
    "    model.add(Dense(32, activation='relu'))\n",
    "    model.add(Dropout(0.5))\n",
    "    model.add(Dense(classes, activation='softmax'))\n",
    "    return model\n"
   ]
  },
  {
   "cell_type": "code",
   "execution_count": 22,
   "metadata": {},
   "outputs": [],
   "source": [
    "model = conv(classes=N_CLASSES, input_shape=(28,28,1))"
   ]
  },
  {
   "cell_type": "code",
   "execution_count": 23,
   "metadata": {},
   "outputs": [
    {
     "name": "stdout",
     "output_type": "stream",
     "text": [
      "Model: \"sequential\"\n",
      "_________________________________________________________________\n",
      " Layer (type)                Output Shape              Param #   \n",
      "=================================================================\n",
      " conv2d (Conv2D)             (None, 26, 26, 32)        320       \n",
      "                                                                 \n",
      " max_pooling2d (MaxPooling2D  (None, 13, 13, 32)       0         \n",
      " )                                                               \n",
      "                                                                 \n",
      " conv2d_1 (Conv2D)           (None, 11, 11, 64)        18496     \n",
      "                                                                 \n",
      " max_pooling2d_1 (MaxPooling  (None, 5, 5, 64)         0         \n",
      " 2D)                                                             \n",
      "                                                                 \n",
      " dropout (Dropout)           (None, 5, 5, 64)          0         \n",
      "                                                                 \n",
      " flatten (Flatten)           (None, 1600)              0         \n",
      "                                                                 \n",
      " dense (Dense)               (None, 128)               204928    \n",
      "                                                                 \n",
      " dropout_1 (Dropout)         (None, 128)               0         \n",
      "                                                                 \n",
      " dense_1 (Dense)             (None, 32)                4128      \n",
      "                                                                 \n",
      " dropout_2 (Dropout)         (None, 32)                0         \n",
      "                                                                 \n",
      " dense_2 (Dense)             (None, 5)                 165       \n",
      "                                                                 \n",
      "=================================================================\n",
      "Total params: 228,037\n",
      "Trainable params: 228,037\n",
      "Non-trainable params: 0\n",
      "_________________________________________________________________\n"
     ]
    }
   ],
   "source": [
    "model.summary()"
   ]
  },
  {
   "cell_type": "code",
   "execution_count": 24,
   "metadata": {},
   "outputs": [],
   "source": [
    "model.compile(loss='categorical_crossentropy', optimizer='adam', metrics=['accuracy'])"
   ]
  },
  {
   "cell_type": "code",
   "execution_count": 25,
   "metadata": {},
   "outputs": [
    {
     "name": "stdout",
     "output_type": "stream",
     "text": [
      "Epoch 1/30\n",
      "125/125 [==============================] - 2s 7ms/step - loss: 1.1027 - accuracy: 0.5620\n",
      "Epoch 2/30\n",
      "125/125 [==============================] - 1s 6ms/step - loss: 0.6911 - accuracy: 0.7673\n",
      "Epoch 3/30\n",
      "125/125 [==============================] - 1s 7ms/step - loss: 0.5456 - accuracy: 0.8195\n",
      "Epoch 4/30\n",
      "125/125 [==============================] - 1s 7ms/step - loss: 0.4755 - accuracy: 0.8460\n",
      "Epoch 5/30\n",
      "125/125 [==============================] - 1s 7ms/step - loss: 0.4258 - accuracy: 0.8618\n",
      "Epoch 6/30\n",
      "125/125 [==============================] - 1s 7ms/step - loss: 0.3918 - accuracy: 0.8795\n",
      "Epoch 7/30\n",
      "125/125 [==============================] - 1s 7ms/step - loss: 0.3506 - accuracy: 0.8928\n",
      "Epoch 8/30\n",
      "125/125 [==============================] - 1s 8ms/step - loss: 0.3300 - accuracy: 0.8990\n",
      "Epoch 9/30\n",
      "125/125 [==============================] - 1s 7ms/step - loss: 0.3103 - accuracy: 0.9050\n",
      "Epoch 10/30\n",
      "125/125 [==============================] - 1s 7ms/step - loss: 0.2849 - accuracy: 0.9090\n",
      "Epoch 11/30\n",
      "125/125 [==============================] - 1s 8ms/step - loss: 0.2826 - accuracy: 0.9105\n",
      "Epoch 12/30\n",
      "125/125 [==============================] - 1s 7ms/step - loss: 0.2679 - accuracy: 0.9150\n",
      "Epoch 13/30\n",
      "125/125 [==============================] - 1s 7ms/step - loss: 0.2716 - accuracy: 0.9107\n",
      "Epoch 14/30\n",
      "125/125 [==============================] - 1s 7ms/step - loss: 0.2576 - accuracy: 0.9153\n",
      "Epoch 15/30\n",
      "125/125 [==============================] - 1s 7ms/step - loss: 0.2202 - accuracy: 0.9277\n",
      "Epoch 16/30\n",
      "125/125 [==============================] - 1s 7ms/step - loss: 0.2141 - accuracy: 0.9340\n",
      "Epoch 17/30\n",
      "125/125 [==============================] - 1s 7ms/step - loss: 0.2064 - accuracy: 0.9290\n",
      "Epoch 18/30\n",
      "125/125 [==============================] - 1s 7ms/step - loss: 0.2137 - accuracy: 0.9295\n",
      "Epoch 19/30\n",
      "125/125 [==============================] - 1s 7ms/step - loss: 0.1930 - accuracy: 0.9370\n",
      "Epoch 20/30\n",
      "125/125 [==============================] - 1s 7ms/step - loss: 0.2006 - accuracy: 0.9323\n",
      "Epoch 21/30\n",
      "125/125 [==============================] - 1s 7ms/step - loss: 0.1876 - accuracy: 0.9395\n",
      "Epoch 22/30\n",
      "125/125 [==============================] - 1s 7ms/step - loss: 0.2003 - accuracy: 0.9333\n",
      "Epoch 23/30\n",
      "125/125 [==============================] - 1s 7ms/step - loss: 0.1801 - accuracy: 0.9417\n",
      "Epoch 24/30\n",
      "125/125 [==============================] - 1s 7ms/step - loss: 0.1776 - accuracy: 0.9355\n",
      "Epoch 25/30\n",
      "125/125 [==============================] - 1s 7ms/step - loss: 0.1696 - accuracy: 0.9455\n",
      "Epoch 26/30\n",
      "125/125 [==============================] - 1s 7ms/step - loss: 0.1785 - accuracy: 0.9410\n",
      "Epoch 27/30\n",
      "125/125 [==============================] - 1s 8ms/step - loss: 0.1732 - accuracy: 0.9482\n",
      "Epoch 28/30\n",
      "125/125 [==============================] - 1s 7ms/step - loss: 0.1427 - accuracy: 0.9528\n",
      "Epoch 29/30\n",
      "125/125 [==============================] - 1s 7ms/step - loss: 0.1433 - accuracy: 0.9545\n",
      "Epoch 30/30\n",
      "125/125 [==============================] - 1s 7ms/step - loss: 0.1536 - accuracy: 0.9490\n"
     ]
    },
    {
     "data": {
      "text/plain": [
       "<keras.callbacks.History at 0x1820a222a10>"
      ]
     },
     "execution_count": 25,
     "metadata": {},
     "output_type": "execute_result"
    }
   ],
   "source": [
    "EPOCHS = 30\n",
    "model.fit(np.array(x_train), np.array(Y_train), batch_size=32, epochs=EPOCHS, verbose=1)"
   ]
  },
  {
   "cell_type": "code",
   "execution_count": 26,
   "metadata": {},
   "outputs": [
    {
     "name": "stdout",
     "output_type": "stream",
     "text": [
      "32/32 [==============================] - 0s 3ms/step\n"
     ]
    }
   ],
   "source": [
    "pred = model.predict(np.array(x_test))"
   ]
  },
  {
   "cell_type": "code",
   "execution_count": 27,
   "metadata": {},
   "outputs": [
    {
     "name": "stdout",
     "output_type": "stream",
     "text": [
      "Accuracy: 93.8\n"
     ]
    }
   ],
   "source": [
    "score = 0\n",
    "\n",
    "for i in range(len(pred)):\n",
    "    if np.argmax(pred[i]) == y_test[i]:\n",
    "        score+=1\n",
    "\n",
    "acc = ((score+0.0)/len(pred)*100)\n",
    "print(\"Accuracy: {acc}\".format(acc = ((score+0.0)/len(pred)*100)))"
   ]
  },
  {
   "cell_type": "code",
   "execution_count": 28,
   "metadata": {},
   "outputs": [],
   "source": [
    "from datetime import datetime\n",
    "# Get the current date and time\n",
    "current_time = datetime.now()\n",
    "\n",
    "# Format the date and time as a string (e.g., \"2022-01-01_12-30-45\")\n",
    "formatted_time = current_time.strftime(\"%Y-%m-%d_%H-%M-%S\")\n",
    "\n",
    "# Combine the formatted time with a base file name\n",
    "base_file_name = \"./model/doodle\"\n",
    "\n",
    "file_name_with_timestamp = f\"{base_file_name}.h5\"\n",
    "\n",
    "model.save(file_name_with_timestamp)"
   ]
  },
  {
   "cell_type": "code",
   "execution_count": 29,
   "metadata": {},
   "outputs": [],
   "source": [
    "from keras.models import load_model\n",
    "\n",
    "model = load_model(\"./model/doodle.h5\")\n"
   ]
  },
  {
   "cell_type": "code",
   "execution_count": 30,
   "metadata": {},
   "outputs": [],
   "source": [
    "def load_numpy_array(file_path):\n",
    "    \"\"\"\n",
    "    Load a NumPy array from a file.\n",
    "\n",
    "    Parameters:\n",
    "    - file_path: File path to load the array from.\n",
    "\n",
    "    Returns:\n",
    "    - numpy array: Loaded NumPy array.\n",
    "    \"\"\"\n",
    "    loaded_array = np.load(file_path)\n",
    "    return loaded_array\n",
    "\n",
    "# # Example Usage:\n",
    "# file_path = \"./user-data.npy\"\n",
    "# loaded_array = load_numpy_array(file_path)\n",
    "# print(\"Loaded NumPy array:\")\n",
    "# visualize(denormalize(loaded_array))\n",
    "# print(model.predict(loaded_array))\n",
    "# pred = CLASSES[np.argmax(model.predict(loaded_array))]\n",
    "# print(\"Predicted:\", pred)"
   ]
  },
  {
   "cell_type": "code",
   "execution_count": 31,
   "metadata": {},
   "outputs": [],
   "source": [
    "from random import randint\n",
    "def visualize_and_predict():\n",
    "    \"selects a random test case and shows the object, the prediction and the expected result\"\n",
    "    n = randint(0, len(x_test))\n",
    "    visualize(denormalize(np.reshape(x_test[n], (28, 28))))\n",
    "    pred = CLASSES[np.argmax(model.predict(np.array([x_test[n]])))]\n",
    "    actual = CLASSES[y_test[n]]\n",
    "    print(\"Actual:\", actual)\n",
    "    print(\"Predicted:\", pred)\n"
   ]
  },
  {
   "cell_type": "markdown",
   "metadata": {},
   "source": [
    "### Evaluate model"
   ]
  },
  {
   "cell_type": "code",
   "execution_count": 32,
   "metadata": {},
   "outputs": [],
   "source": [
    "from sklearn.metrics import (accuracy_score, precision_score, recall_score)"
   ]
  }
 ],
 "metadata": {
  "kernelspec": {
   "display_name": "base",
   "language": "python",
   "name": "python3"
  },
  "language_info": {
   "codemirror_mode": {
    "name": "ipython",
    "version": 3
   },
   "file_extension": ".py",
   "mimetype": "text/x-python",
   "name": "python",
   "nbconvert_exporter": "python",
   "pygments_lexer": "ipython3",
   "version": "3.10.13"
  }
 },
 "nbformat": 4,
 "nbformat_minor": 2
}

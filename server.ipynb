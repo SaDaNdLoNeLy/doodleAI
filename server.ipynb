{
 "cells": [
  {
   "cell_type": "code",
   "execution_count": null,
   "metadata": {},
   "outputs": [],
   "source": [
    "from flask import Flask, render_template, request\n",
    "import numpy as np\n",
    "import re\n",
    "import base64\n",
    "from PIL import Image\n",
    "from imageio import imread, imwrite\n",
    "from keras.models import load_model\n",
    "import json"
   ]
  },
  {
   "cell_type": "code",
   "execution_count": null,
   "metadata": {},
   "outputs": [],
   "source": [
    "def normalize(nparr):\n",
    "    return np.interp(nparr, [0, 255], [-1,1])"
   ]
  },
  {
   "cell_type": "code",
   "execution_count": null,
   "metadata": {},
   "outputs": [],
   "source": [
    "app = Flask(__name__)\n",
    "\n",
    "# mlp = load_model(\"./models/mlp_94.h5\")\n",
    "object_file = open(\"./object.txt\", \"r\")\n",
    "objects = object_file.readlines()\n",
    "object_file.close()\n",
    "N_CLASSES = len(objects)\n",
    "CLASSES = {}\n",
    "for idx, obj in enumerate(objects):\n",
    "    CLASSES[idx] = obj.replace('\\n', '')\n",
    "print(CLASSES)\n",
    "conv = load_model(\"./model/doodle.h5\")\n",
    "SHAPES = CLASSES\n",
    "\n",
    "def save_numpy_array(array, file_path):\n",
    "    \"\"\"\n",
    "    Save a NumPy array to a file.\n",
    "\n",
    "    Parameters:\n",
    "    - array: NumPy array to be saved.\n",
    "    - file_path: File path to save the array to.\n",
    "    \"\"\"\n",
    "    np.save(file_path, array)\n",
    "    print(f\"NumPy array saved to {file_path}\")\n",
    "\n",
    "@app.route(\"/\", methods=[\"GET\", \"POST\"])\n",
    "def ready():\n",
    "    if request.method == \"GET\":\n",
    "        classes =list(SHAPES.values())\n",
    "        classesText = f\"Draw an object belong to one of the following categories: {', '.join(classes)}. Then see the prediction\"\n",
    "        return render_template(\"index1.html\", classesText=classesText)\n",
    "    if request.method == \"POST\":\n",
    "        data = request.form[\"payload\"].split(\",\")[1]\n",
    "        net = request.form[\"net\"]\n",
    "\n",
    "        img = base64.decodebytes(data.encode('utf-8'))\n",
    "        with open('static/temp.png', 'wb') as output:\n",
    "            output.write(img)\n",
    "        with open('temp.png', 'wb') as output:\n",
    "            output.write(img)\n",
    "        x = imread('temp.png', pilmode='L')\n",
    "        # resize input image to 28x28\n",
    "        x = np.array(Image.fromarray(x).resize((28, 28)))\n",
    "\n",
    "        # if net == \"MLP\":\n",
    "        #     model = mlp\n",
    "        #     # invert the colors\n",
    "        #     x = np.invert(x)\n",
    "        #     # flatten the matrix\n",
    "        #     x = x.flatten()\n",
    "\n",
    "        if net == \"CNN\":\n",
    "            model = conv\n",
    "            x = np.expand_dims(x, axis=0)\n",
    "            x = np.reshape(x, (28, 28, 1))\n",
    "            # invert the colors\n",
    "            x = np.invert(x)\n",
    "            # brighten the image by 60%\n",
    "            for i in range(len(x)):\n",
    "                for j in range(len(x)):\n",
    "                    if x[i][j] > 50:\n",
    "                        x[i][j] = min(255, x[i][j] + x[i][j] * 0.60)\n",
    "\n",
    "        # normalize the values between -1 and 1\n",
    "        x = normalize(x)\n",
    "        val = model.predict(np.array([x]))\n",
    "        print(val)\n",
    "        pred = SHAPES[np.argmax(val)]\n",
    "        classes =list(SHAPES.values())\n",
    "        print(pred)\n",
    "        print(classes)\n",
    "        print(list(val[0]))\n",
    "        classesText = f\"Draw an object belong to one of the following categories: {', '.join(classes)}. Then see the prediction\"\n",
    "        return render_template(\"index1.html\", preds=list(val[0]), classes=json.dumps(classes), chart=True, putback=request.form[\"payload\"], net=net, tempImage='./temp.png', classesText=classesText)"
   ]
  },
  {
   "cell_type": "code",
   "execution_count": null,
   "metadata": {},
   "outputs": [],
   "source": [
    "app.run()"
   ]
  }
 ],
 "metadata": {
  "kernelspec": {
   "display_name": "AI",
   "language": "python",
   "name": "python3"
  },
  "language_info": {
   "codemirror_mode": {
    "name": "ipython",
    "version": 3
   },
   "file_extension": ".py",
   "mimetype": "text/x-python",
   "name": "python",
   "nbconvert_exporter": "python",
   "pygments_lexer": "ipython3",
   "version": "3.10.13"
  }
 },
 "nbformat": 4,
 "nbformat_minor": 2
}

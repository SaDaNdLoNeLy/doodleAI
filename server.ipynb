{
 "cells": [
  {
   "cell_type": "code",
   "execution_count": 5,
   "metadata": {},
   "outputs": [],
   "source": [
    "from flask import Flask, render_template, request\n",
    "import numpy as np\n",
    "import re\n",
    "import base64\n",
    "from PIL import Image\n",
    "from imageio import imread, imwrite\n",
    "from keras.models import load_model\n",
    "import json"
   ]
  },
  {
   "cell_type": "code",
   "execution_count": 6,
   "metadata": {},
   "outputs": [],
   "source": [
    "def normalize(nparr):\n",
    "    return np.interp(nparr, [0, 255], [-1,1])"
   ]
  },
  {
   "cell_type": "code",
   "execution_count": 7,
   "metadata": {},
   "outputs": [
    {
     "name": "stdout",
     "output_type": "stream",
     "text": [
      "{0: 'triangle', 1: 'circle', 2: 'square', 3: 'apple', 4: 'banana'}\n"
     ]
    }
   ],
   "source": [
    "app = Flask(__name__)\n",
    "\n",
    "# mlp = load_model(\"./models/mlp_94.h5\")\n",
    "object_file = open(\"./object.txt\", \"r\")\n",
    "objects = object_file.readlines()\n",
    "object_file.close()\n",
    "N_CLASSES = len(objects)\n",
    "CLASSES = {}\n",
    "for idx, obj in enumerate(objects):\n",
    "    CLASSES[idx] = obj.replace('\\n', '')\n",
    "print(CLASSES)\n",
    "conv = load_model(\"./model/doodle.h5\")\n",
    "SHAPES = CLASSES\n",
    "\n",
    "def save_numpy_array(array, file_path):\n",
    "    \"\"\"\n",
    "    Save a NumPy array to a file.\n",
    "\n",
    "    Parameters:\n",
    "    - array: NumPy array to be saved.\n",
    "    - file_path: File path to save the array to.\n",
    "    \"\"\"\n",
    "    np.save(file_path, array)\n",
    "    print(f\"NumPy array saved to {file_path}\")\n",
    "\n",
    "@app.route(\"/\", methods=[\"GET\", \"POST\"])\n",
    "def ready():\n",
    "    if request.method == \"GET\":\n",
    "        classes =list(SHAPES.values())\n",
    "        classesText = f\"Draw an object belong to one of the following categories: {', '.join(classes)}. Then see the prediction\"\n",
    "        return render_template(\"index1.html\", classesText=classesText)\n",
    "    if request.method == \"POST\":\n",
    "        data = request.form[\"payload\"].split(\",\")[1]\n",
    "        net = request.form[\"net\"]\n",
    "\n",
    "        img = base64.decodebytes(data.encode('utf-8'))\n",
    "        with open('static/temp.png', 'wb') as output:\n",
    "            output.write(img)\n",
    "        with open('temp.png', 'wb') as output:\n",
    "            output.write(img)\n",
    "        x = imread('temp.png', pilmode='L')\n",
    "        # resize input image to 28x28\n",
    "        x = np.array(Image.fromarray(x).resize((28, 28)))\n",
    "\n",
    "        # if net == \"MLP\":\n",
    "        #     model = mlp\n",
    "        #     # invert the colors\n",
    "        #     x = np.invert(x)\n",
    "        #     # flatten the matrix\n",
    "        #     x = x.flatten()\n",
    "\n",
    "        if net == \"CNN\":\n",
    "            model = conv\n",
    "            x = np.expand_dims(x, axis=0)\n",
    "            x = np.reshape(x, (28, 28, 1))\n",
    "            # invert the colors\n",
    "            x = np.invert(x)\n",
    "            # brighten the image by 60%\n",
    "            for i in range(len(x)):\n",
    "                for j in range(len(x)):\n",
    "                    if x[i][j] > 50:\n",
    "                        x[i][j] = min(255, x[i][j] + x[i][j] * 0.60)\n",
    "\n",
    "        # normalize the values between -1 and 1\n",
    "        x = normalize(x)\n",
    "        val = model.predict(np.array([x]))\n",
    "        print(val)\n",
    "        pred = SHAPES[np.argmax(val)]\n",
    "        classes =list(SHAPES.values())\n",
    "        print(pred)\n",
    "        print(classes)\n",
    "        print(list(val[0]))\n",
    "        classesText = f\"Draw an object belong to one of the following categories: {', '.join(classes)}. Then see the prediction\"\n",
    "        return render_template(\"index1.html\", preds=list(val[0]), classes=json.dumps(classes), chart=True, putback=request.form[\"payload\"], net=net, tempImage='./temp.png', classesText=classesText)"
   ]
  },
  {
   "cell_type": "code",
   "execution_count": 8,
   "metadata": {},
   "outputs": [
    {
     "name": "stdout",
     "output_type": "stream",
     "text": [
      " * Serving Flask app '__main__'\n",
      " * Debug mode: off\n"
     ]
    },
    {
     "name": "stderr",
     "output_type": "stream",
     "text": [
      "WARNING: This is a development server. Do not use it in a production deployment. Use a production WSGI server instead.\n",
      " * Running on http://127.0.0.1:5000\n",
      "Press CTRL+C to quit\n",
      "127.0.0.1 - - [03/Jan/2024 11:16:17] \"GET / HTTP/1.1\" 200 -\n",
      "127.0.0.1 - - [03/Jan/2024 11:16:17] \"GET /static/index.js HTTP/1.1\" 304 -\n"
     ]
    },
    {
     "name": "stdout",
     "output_type": "stream",
     "text": [
      "1/1 [==============================] - 0s 81ms/step\n"
     ]
    },
    {
     "name": "stderr",
     "output_type": "stream",
     "text": [
      "C:\\Users\\Admin\\AppData\\Local\\Temp\\ipykernel_1712\\970322433.py:41: DeprecationWarning: Starting with ImageIO v3 the behavior of this function will switch to that of iio.v3.imread. To keep the current behavior (and make this warning disappear) use `import imageio.v2 as imageio` or call `imageio.v2.imread` directly.\n",
      "  x = imread('temp.png', pilmode='L')\n",
      "127.0.0.1 - - [03/Jan/2024 11:16:26] \"POST / HTTP/1.1\" 200 -\n",
      "127.0.0.1 - - [03/Jan/2024 11:16:26] \"GET /static/index.js HTTP/1.1\" 304 -\n"
     ]
    },
    {
     "name": "stdout",
     "output_type": "stream",
     "text": [
      "[[9.9550098e-01 7.2673726e-04 4.7931689e-04 4.9747305e-05 3.2432326e-03]]\n",
      "triangle\n",
      "['triangle', 'circle', 'square', 'apple', 'banana']\n",
      "[0.995501, 0.00072673726, 0.0004793169, 4.9747305e-05, 0.0032432326]\n"
     ]
    },
    {
     "name": "stderr",
     "output_type": "stream",
     "text": [
      "127.0.0.1 - - [03/Jan/2024 11:16:26] \"GET /static/temp.png HTTP/1.1\" 200 -\n"
     ]
    },
    {
     "name": "stdout",
     "output_type": "stream",
     "text": [
      "1/1 [==============================] - 0s 22ms/step\n"
     ]
    },
    {
     "name": "stderr",
     "output_type": "stream",
     "text": [
      "127.0.0.1 - - [03/Jan/2024 11:16:31] \"POST / HTTP/1.1\" 200 -\n",
      "127.0.0.1 - - [03/Jan/2024 11:16:31] \"GET /static/index.js HTTP/1.1\" 304 -\n"
     ]
    },
    {
     "name": "stdout",
     "output_type": "stream",
     "text": [
      "[[9.1015714e-01 2.9615803e-02 3.3323243e-04 8.0895014e-05 5.9812840e-02]]\n",
      "triangle\n",
      "['triangle', 'circle', 'square', 'apple', 'banana']\n",
      "[0.91015714, 0.029615803, 0.00033323243, 8.089501e-05, 0.05981284]\n"
     ]
    },
    {
     "name": "stderr",
     "output_type": "stream",
     "text": [
      "127.0.0.1 - - [03/Jan/2024 11:16:31] \"GET /static/temp.png HTTP/1.1\" 200 -\n"
     ]
    },
    {
     "name": "stdout",
     "output_type": "stream",
     "text": [
      "1/1 [==============================] - 0s 23ms/step\n"
     ]
    },
    {
     "name": "stderr",
     "output_type": "stream",
     "text": [
      "127.0.0.1 - - [03/Jan/2024 11:16:41] \"POST / HTTP/1.1\" 200 -\n",
      "127.0.0.1 - - [03/Jan/2024 11:16:42] \"GET /static/index.js HTTP/1.1\" 304 -\n"
     ]
    },
    {
     "name": "stdout",
     "output_type": "stream",
     "text": [
      "[[6.3500724e-05 2.6529003e-04 1.2565993e-05 4.9590100e-05 9.9960905e-01]]\n",
      "banana\n",
      "['triangle', 'circle', 'square', 'apple', 'banana']\n",
      "[6.350072e-05, 0.00026529003, 1.2565993e-05, 4.95901e-05, 0.99960905]\n"
     ]
    },
    {
     "name": "stderr",
     "output_type": "stream",
     "text": [
      "127.0.0.1 - - [03/Jan/2024 11:16:42] \"GET /static/temp.png HTTP/1.1\" 200 -\n"
     ]
    },
    {
     "name": "stdout",
     "output_type": "stream",
     "text": [
      "1/1 [==============================] - 0s 24ms/step\n"
     ]
    },
    {
     "name": "stderr",
     "output_type": "stream",
     "text": [
      "127.0.0.1 - - [03/Jan/2024 11:16:55] \"POST / HTTP/1.1\" 200 -\n",
      "127.0.0.1 - - [03/Jan/2024 11:16:55] \"GET /static/index.js HTTP/1.1\" 304 -\n"
     ]
    },
    {
     "name": "stdout",
     "output_type": "stream",
     "text": [
      "[[0.03743196 0.07459631 0.09978984 0.78436816 0.00381375]]\n",
      "apple\n",
      "['triangle', 'circle', 'square', 'apple', 'banana']\n",
      "[0.03743196, 0.07459631, 0.099789836, 0.78436816, 0.003813747]\n"
     ]
    },
    {
     "name": "stderr",
     "output_type": "stream",
     "text": [
      "127.0.0.1 - - [03/Jan/2024 11:16:55] \"GET /static/temp.png HTTP/1.1\" 200 -\n"
     ]
    },
    {
     "name": "stdout",
     "output_type": "stream",
     "text": [
      "1/1 [==============================] - 0s 25ms/step\n"
     ]
    },
    {
     "name": "stderr",
     "output_type": "stream",
     "text": [
      "127.0.0.1 - - [03/Jan/2024 11:18:10] \"POST / HTTP/1.1\" 200 -\n",
      "127.0.0.1 - - [03/Jan/2024 11:18:10] \"GET /static/index.js HTTP/1.1\" 304 -\n"
     ]
    },
    {
     "name": "stdout",
     "output_type": "stream",
     "text": [
      "[[0.00275121 0.03455734 0.05450714 0.8644515  0.04373286]]\n",
      "apple\n",
      "['triangle', 'circle', 'square', 'apple', 'banana']\n",
      "[0.00275121, 0.034557343, 0.054507136, 0.8644515, 0.043732863]\n"
     ]
    },
    {
     "name": "stderr",
     "output_type": "stream",
     "text": [
      "127.0.0.1 - - [03/Jan/2024 11:18:10] \"GET /static/temp.png HTTP/1.1\" 200 -\n"
     ]
    },
    {
     "name": "stdout",
     "output_type": "stream",
     "text": [
      "1/1 [==============================] - 0s 23ms/step\n"
     ]
    },
    {
     "name": "stderr",
     "output_type": "stream",
     "text": [
      "127.0.0.1 - - [03/Jan/2024 11:18:20] \"POST / HTTP/1.1\" 200 -\n",
      "127.0.0.1 - - [03/Jan/2024 11:18:20] \"GET /static/index.js HTTP/1.1\" 304 -\n"
     ]
    },
    {
     "name": "stdout",
     "output_type": "stream",
     "text": [
      "[[0.00192567 0.9255144  0.04749847 0.01711662 0.00794491]]\n",
      "circle\n",
      "['triangle', 'circle', 'square', 'apple', 'banana']\n",
      "[0.0019256739, 0.9255144, 0.04749847, 0.017116621, 0.00794491]\n"
     ]
    },
    {
     "name": "stderr",
     "output_type": "stream",
     "text": [
      "127.0.0.1 - - [03/Jan/2024 11:18:20] \"GET /static/temp.png HTTP/1.1\" 200 -\n"
     ]
    },
    {
     "name": "stdout",
     "output_type": "stream",
     "text": [
      "1/1 [==============================] - 0s 23ms/step\n"
     ]
    },
    {
     "name": "stderr",
     "output_type": "stream",
     "text": [
      "127.0.0.1 - - [03/Jan/2024 11:18:26] \"POST / HTTP/1.1\" 200 -\n",
      "127.0.0.1 - - [03/Jan/2024 11:18:26] \"GET /static/index.js HTTP/1.1\" 304 -\n"
     ]
    },
    {
     "name": "stdout",
     "output_type": "stream",
     "text": [
      "[[0.31988725 0.23426399 0.00124091 0.00602588 0.43858206]]\n",
      "banana\n",
      "['triangle', 'circle', 'square', 'apple', 'banana']\n",
      "[0.31988725, 0.23426399, 0.0012409106, 0.006025881, 0.43858206]\n"
     ]
    },
    {
     "name": "stderr",
     "output_type": "stream",
     "text": [
      "127.0.0.1 - - [03/Jan/2024 11:18:26] \"GET /static/temp.png HTTP/1.1\" 200 -\n"
     ]
    },
    {
     "name": "stdout",
     "output_type": "stream",
     "text": [
      "1/1 [==============================] - 0s 24ms/step\n"
     ]
    },
    {
     "name": "stderr",
     "output_type": "stream",
     "text": [
      "127.0.0.1 - - [03/Jan/2024 11:18:41] \"POST / HTTP/1.1\" 200 -\n",
      "127.0.0.1 - - [03/Jan/2024 11:18:41] \"GET /static/index.js HTTP/1.1\" 304 -\n"
     ]
    },
    {
     "name": "stdout",
     "output_type": "stream",
     "text": [
      "[[0.00160636 0.9367419  0.00425903 0.03374841 0.02364428]]\n",
      "circle\n",
      "['triangle', 'circle', 'square', 'apple', 'banana']\n",
      "[0.001606365, 0.9367419, 0.004259032, 0.03374841, 0.023644282]\n"
     ]
    },
    {
     "name": "stderr",
     "output_type": "stream",
     "text": [
      "127.0.0.1 - - [03/Jan/2024 11:18:41] \"GET /static/temp.png HTTP/1.1\" 200 -\n"
     ]
    },
    {
     "name": "stdout",
     "output_type": "stream",
     "text": [
      "1/1 [==============================] - 0s 24ms/step\n"
     ]
    },
    {
     "name": "stderr",
     "output_type": "stream",
     "text": [
      "127.0.0.1 - - [03/Jan/2024 11:18:53] \"POST / HTTP/1.1\" 200 -\n",
      "127.0.0.1 - - [03/Jan/2024 11:18:53] \"GET /static/index.js HTTP/1.1\" 304 -\n"
     ]
    },
    {
     "name": "stdout",
     "output_type": "stream",
     "text": [
      "[[9.2271990e-01 1.1832883e-02 1.8867417e-03 1.7681778e-04 6.3383684e-02]]\n",
      "triangle\n",
      "['triangle', 'circle', 'square', 'apple', 'banana']\n",
      "[0.9227199, 0.011832883, 0.0018867417, 0.00017681778, 0.06338368]\n"
     ]
    },
    {
     "name": "stderr",
     "output_type": "stream",
     "text": [
      "127.0.0.1 - - [03/Jan/2024 11:18:53] \"GET /static/temp.png HTTP/1.1\" 200 -\n"
     ]
    }
   ],
   "source": [
    "app.run()"
   ]
  }
 ],
 "metadata": {
  "kernelspec": {
   "display_name": "AI",
   "language": "python",
   "name": "python3"
  },
  "language_info": {
   "codemirror_mode": {
    "name": "ipython",
    "version": 3
   },
   "file_extension": ".py",
   "mimetype": "text/x-python",
   "name": "python",
   "nbconvert_exporter": "python",
   "pygments_lexer": "ipython3",
   "version": "3.10.13"
  }
 },
 "nbformat": 4,
 "nbformat_minor": 2
}

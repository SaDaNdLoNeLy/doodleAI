{
 "cells": [
  {
   "cell_type": "code",
   "execution_count": 11,
   "metadata": {},
   "outputs": [],
   "source": [
    "from flask import Flask, render_template, request\n",
    "import numpy as np\n",
    "import re\n",
    "import base64\n",
    "from PIL import Image\n",
    "from imageio import imread, imwrite\n",
    "from keras.models import load_model\n",
    "import json"
   ]
  },
  {
   "cell_type": "code",
   "execution_count": 12,
   "metadata": {},
   "outputs": [],
   "source": [
    "def normalize(nparr):\n",
    "    return np.interp(nparr, [0, 255], [-1,1])"
   ]
  },
  {
   "cell_type": "code",
   "execution_count": 13,
   "metadata": {},
   "outputs": [
    {
     "name": "stdout",
     "output_type": "stream",
     "text": [
      "{0: 'apple', 1: 'banana', 2: 'grapes', 3: 'strawberry'}\n"
     ]
    }
   ],
   "source": [
    "app = Flask(__name__)\n",
    "\n",
    "# mlp = load_model(\"./models/mlp_94.h5\")\n",
    "object_file = open(\"./object.txt\", \"r\")\n",
    "objects = object_file.readlines()\n",
    "object_file.close()\n",
    "N_CLASSES = len(objects)\n",
    "CLASSES = {}\n",
    "for idx, obj in enumerate(objects):\n",
    "    CLASSES[idx] = obj.replace('\\n', '')\n",
    "print(CLASSES)\n",
    "conv = load_model(\"./model/doodle.h5\")\n",
    "SHAPES = CLASSES\n",
    "\n",
    "def save_numpy_array(array, file_path):\n",
    "    \"\"\"\n",
    "    Save a NumPy array to a file.\n",
    "\n",
    "    Parameters:\n",
    "    - array: NumPy array to be saved.\n",
    "    - file_path: File path to save the array to.\n",
    "    \"\"\"\n",
    "    np.save(file_path, array)\n",
    "    print(f\"NumPy array saved to {file_path}\")\n",
    "\n",
    "@app.route(\"/\", methods=[\"GET\", \"POST\"])\n",
    "def ready():\n",
    "    if request.method == \"GET\":\n",
    "        classes =list(SHAPES.values())\n",
    "        classesText = f\"Draw an object belong to one of the following categories: {', '.join(classes)}. Then see the prediction\"\n",
    "        return render_template(\"index1.html\", classesText=classesText)\n",
    "    if request.method == \"POST\":\n",
    "        data = request.form[\"payload\"].split(\",\")[1]\n",
    "        net = request.form[\"net\"]\n",
    "\n",
    "        img = base64.decodebytes(data.encode('utf-8'))\n",
    "        with open('static/temp.png', 'wb') as output:\n",
    "            output.write(img)\n",
    "        with open('temp.png', 'wb') as output:\n",
    "            output.write(img)\n",
    "        x = imread('temp.png', pilmode='L')\n",
    "        # resize input image to 28x28\n",
    "        x = np.array(Image.fromarray(x).resize((28, 28)))\n",
    "\n",
    "        # if net == \"MLP\":\n",
    "        #     model = mlp\n",
    "        #     # invert the colors\n",
    "        #     x = np.invert(x)\n",
    "        #     # flatten the matrix\n",
    "        #     x = x.flatten()\n",
    "\n",
    "        if net == \"CNN\":\n",
    "            model = conv\n",
    "            x = np.expand_dims(x, axis=0)\n",
    "            x = np.reshape(x, (28, 28, 1))\n",
    "            # invert the colors\n",
    "            x = np.invert(x)\n",
    "            # brighten the image by 60%\n",
    "            for i in range(len(x)):\n",
    "                for j in range(len(x)):\n",
    "                    if x[i][j] > 50:\n",
    "                        x[i][j] = min(255, x[i][j] + x[i][j] * 0.60)\n",
    "\n",
    "        # normalize the values between -1 and 1\n",
    "        x = normalize(x)\n",
    "        val = model.predict(np.array([x]))\n",
    "        print(val)\n",
    "        pred = SHAPES[np.argmax(val)]\n",
    "        classes =list(SHAPES.values())\n",
    "        print(pred)\n",
    "        print(classes)\n",
    "        print(list(val[0]))\n",
    "        classesText = f\"Draw an object belong to one of the following categories: {', '.join(classes)}. Then see the prediction\"\n",
    "        return render_template(\"index1.html\", preds=list(val[0]), classes=json.dumps(classes), chart=True, putback=request.form[\"payload\"], net=net, tempImage='./temp.png', classesText=classesText)"
   ]
  },
  {
   "cell_type": "code",
   "execution_count": 14,
   "metadata": {},
   "outputs": [
    {
     "name": "stdout",
     "output_type": "stream",
     "text": [
      " * Serving Flask app '__main__'\n",
      " * Debug mode: off\n"
     ]
    },
    {
     "name": "stderr",
     "output_type": "stream",
     "text": [
      "WARNING: This is a development server. Do not use it in a production deployment. Use a production WSGI server instead.\n",
      " * Running on http://127.0.0.1:5000\n",
      "Press CTRL+C to quit\n",
      "127.0.0.1 - - [03/Jan/2024 14:18:24] \"GET / HTTP/1.1\" 200 -\n",
      "127.0.0.1 - - [03/Jan/2024 14:18:24] \"GET /static/index.js HTTP/1.1\" 304 -\n"
     ]
    },
    {
     "name": "stdout",
     "output_type": "stream",
     "text": [
      "1/1 [==============================] - 0s 81ms/step\n"
     ]
    },
    {
     "name": "stderr",
     "output_type": "stream",
     "text": [
      "C:\\Users\\Admin\\AppData\\Local\\Temp\\ipykernel_17540\\970322433.py:41: DeprecationWarning: Starting with ImageIO v3 the behavior of this function will switch to that of iio.v3.imread. To keep the current behavior (and make this warning disappear) use `import imageio.v2 as imageio` or call `imageio.v2.imread` directly.\n",
      "  x = imread('temp.png', pilmode='L')\n",
      "127.0.0.1 - - [03/Jan/2024 14:18:46] \"POST / HTTP/1.1\" 200 -\n",
      "127.0.0.1 - - [03/Jan/2024 14:18:46] \"GET /static/index.js HTTP/1.1\" 304 -\n",
      "127.0.0.1 - - [03/Jan/2024 14:18:46] \"GET /static/temp.png HTTP/1.1\" 200 -\n"
     ]
    },
    {
     "name": "stdout",
     "output_type": "stream",
     "text": [
      "[[1.17524054e-04 5.43695269e-03 1.37869979e-03 9.93066788e-01]]\n",
      "strawberry\n",
      "['apple', 'banana', 'grapes', 'strawberry']\n",
      "[0.000117524054, 0.0054369527, 0.0013786998, 0.9930668]\n",
      "1/1 [==============================] - 0s 24ms/step\n"
     ]
    },
    {
     "name": "stderr",
     "output_type": "stream",
     "text": [
      "127.0.0.1 - - [03/Jan/2024 14:18:59] \"POST / HTTP/1.1\" 200 -\n",
      "127.0.0.1 - - [03/Jan/2024 14:18:59] \"GET /static/index.js HTTP/1.1\" 304 -\n",
      "127.0.0.1 - - [03/Jan/2024 14:18:59] \"GET /static/temp.png HTTP/1.1\" 200 -\n"
     ]
    },
    {
     "name": "stdout",
     "output_type": "stream",
     "text": [
      "[[4.1912785e-06 9.8626190e-01 3.4901185e-04 1.3384818e-02]]\n",
      "banana\n",
      "['apple', 'banana', 'grapes', 'strawberry']\n",
      "[4.1912785e-06, 0.9862619, 0.00034901185, 0.013384818]\n",
      "1/1 [==============================] - 0s 22ms/step\n"
     ]
    },
    {
     "name": "stderr",
     "output_type": "stream",
     "text": [
      "127.0.0.1 - - [03/Jan/2024 14:19:13] \"POST / HTTP/1.1\" 200 -\n",
      "127.0.0.1 - - [03/Jan/2024 14:19:14] \"GET /static/index.js HTTP/1.1\" 304 -\n",
      "127.0.0.1 - - [03/Jan/2024 14:19:14] \"GET /static/temp.png HTTP/1.1\" 200 -\n"
     ]
    },
    {
     "name": "stdout",
     "output_type": "stream",
     "text": [
      "[[5.9845700e-04 2.4006269e-03 8.6420393e-01 1.3279703e-01]]\n",
      "grapes\n",
      "['apple', 'banana', 'grapes', 'strawberry']\n",
      "[0.000598457, 0.002400627, 0.86420393, 0.13279703]\n"
     ]
    }
   ],
   "source": [
    "app.run()"
   ]
  }
 ],
 "metadata": {
  "kernelspec": {
   "display_name": "AI",
   "language": "python",
   "name": "python3"
  },
  "language_info": {
   "codemirror_mode": {
    "name": "ipython",
    "version": 3
   },
   "file_extension": ".py",
   "mimetype": "text/x-python",
   "name": "python",
   "nbconvert_exporter": "python",
   "pygments_lexer": "ipython3",
   "version": "3.10.13"
  }
 },
 "nbformat": 4,
 "nbformat_minor": 2
}
